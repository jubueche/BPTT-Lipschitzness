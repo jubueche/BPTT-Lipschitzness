{
 "cells": [
  {
   "cell_type": "code",
   "execution_count": 1,
   "id": "finnish-chamber",
   "metadata": {},
   "outputs": [],
   "source": [
    "import numpy as np\n",
    "import matplotlib\n",
    "matplotlib.rcParams['figure.figsize'] = [4, 4]\n",
    "import matplotlib.pyplot as plt"
   ]
  },
  {
   "cell_type": "code",
   "execution_count": 2,
   "id": "distinct-desert",
   "metadata": {},
   "outputs": [
    {
     "name": "stdout",
     "output_type": "stream",
     "text": [
      "***************************************************************\n",
      "WARNING: GENO solver not installed. Using SciPy solver instead.\n",
      "Run:     pip install genosolver\n",
      "***************************************************************\n"
     ]
    }
   ],
   "source": [
    "from math import inf\n",
    "from timeit import default_timer as timer\n",
    "import numpy as np\n",
    "\n",
    "\n",
    "try:\n",
    "    from genosolver import minimize, check_version\n",
    "    USE_GENO_SOLVER = True\n",
    "except ImportError:\n",
    "    from scipy.optimize import minimize\n",
    "    USE_GENO_SOLVER = False\n",
    "    WRN = 'WARNING: GENO solver not installed. Using SciPy solver instead.\\n' + \\\n",
    "          'Run:     pip install genosolver'\n",
    "    print('*' * 63)\n",
    "    print(WRN)\n",
    "    print('*' * 63)\n",
    "\n",
    "class GenoNLP:\n",
    "    def __init__(self, W, y, c):\n",
    "        self.W = W\n",
    "        self.y = y\n",
    "        self.c = c\n",
    "        assert isinstance(W, np.ndarray)\n",
    "        dim = W.shape\n",
    "        assert len(dim) == 2\n",
    "        self.W_rows = dim[0]\n",
    "        self.W_cols = dim[1]\n",
    "        assert isinstance(y, np.ndarray)\n",
    "        dim = y.shape\n",
    "        assert len(dim) == 1\n",
    "        self.y_rows = dim[0]\n",
    "        self.y_cols = 1\n",
    "        assert isinstance(c, np.ndarray)\n",
    "        dim = c.shape\n",
    "        assert len(dim) == 1\n",
    "        self.c_rows = dim[0]\n",
    "        self.c_cols = 1\n",
    "        self.x_rows = self.y_rows\n",
    "        self.x_cols = 1\n",
    "        self.x_size = self.x_rows * self.x_cols\n",
    "        # the following dim assertions need to hold for this problem\n",
    "        assert self.W_rows == self.y_rows == self.c_rows == self.x_rows == self.W_cols\n",
    "\n",
    "    def getBounds(self):\n",
    "        bounds = []\n",
    "        bounds += [(-inf, inf)] * self.x_size\n",
    "        return bounds\n",
    "\n",
    "    def getStartingPoint(self):\n",
    "        self.xInit = np.random.randn(self.x_rows, self.x_cols)\n",
    "        return self.xInit.reshape(-1)\n",
    "\n",
    "    def variables(self, _x):\n",
    "        x = _x\n",
    "        return x\n",
    "\n",
    "    def fAndG(self, _x):\n",
    "        x = self.variables(_x)\n",
    "        t_0 = (x - self.y)\n",
    "        f_ = (0.5 * (np.linalg.norm(t_0) ** 2))\n",
    "        g_0 = t_0\n",
    "        g_ = g_0\n",
    "        return f_, g_\n",
    "\n",
    "    def functionValueIneqConstraint000(self, _x):\n",
    "        x = self.variables(_x)\n",
    "        f = (((x - self.c)).dot((self.W).dot((x - self.c))) - 1)\n",
    "        return f\n",
    "\n",
    "    def gradientIneqConstraint000(self, _x):\n",
    "        x = self.variables(_x)\n",
    "        g_ = (((self.W).dot((x - self.c)) + (self.W.T).dot((x - self.c))))\n",
    "        return g_\n",
    "\n",
    "    def jacProdIneqConstraint000(self, _x, _v):\n",
    "        x = self.variables(_x)\n",
    "        gv_ = (((_v * (self.W).dot((x - self.c))) + (_v * (self.W.T).dot((x - self.c)))))\n",
    "        return gv_\n",
    "\n",
    "def toArray(v):\n",
    "    return np.ascontiguousarray(v, dtype=np.float64).reshape(-1)\n",
    "\n",
    "def solve(W, y, c):\n",
    "    start = timer()\n",
    "    NLP = GenoNLP(W, y, c)\n",
    "    x0 = NLP.getStartingPoint()\n",
    "    bnds = NLP.getBounds()\n",
    "    tol = 1E-6\n",
    "    # These are the standard GENO solver options, they can be omitted.\n",
    "    options = {'tol' : tol,\n",
    "               'constraintsTol' : 1E-4,\n",
    "               'maxiter' : 1000,\n",
    "               'verbosity' : 1  # Set it to 0 to fully mute it.\n",
    "              }\n",
    "\n",
    "    if USE_GENO_SOLVER:\n",
    "        # Check if installed GENO solver version is sufficient.\n",
    "        check_version('0.0.3')\n",
    "        constraints = ({'type' : 'ineq',\n",
    "                        'fun' : NLP.functionValueIneqConstraint000,\n",
    "                        'jacprod' : NLP.jacProdIneqConstraint000})\n",
    "        result = minimize(NLP.fAndG, x0,\n",
    "                          bounds=bnds, options=options,\n",
    "                          constraints=constraints)\n",
    "    else:\n",
    "        # SciPy: for inequality constraints need to change sign f(x) <= 0 -> f(x) >= 0\n",
    "        constraints = ({'type' : 'ineq',\n",
    "                        'fun' : lambda x: -NLP.functionValueIneqConstraint000(x),\n",
    "                        'jac' : lambda x: -NLP.gradientIneqConstraint000(x)})\n",
    "        result = minimize(NLP.fAndG, x0, jac=True, method='SLSQP',\n",
    "                          bounds=bnds,\n",
    "                          constraints=constraints)\n",
    "\n",
    "    # assemble solution and map back to original problem\n",
    "    x = result.x\n",
    "    ineqConstraint000 = np.asarray(NLP.functionValueIneqConstraint000(x))\n",
    "    ineqConstraint000[ineqConstraint000 < 0] = 0\n",
    "    x = NLP.variables(x)\n",
    "    solution = {}\n",
    "    solution['success'] = result.success\n",
    "    solution['message'] = result.message\n",
    "    solution['fun'] = result.fun\n",
    "    solution['grad'] = result.jac\n",
    "    if USE_GENO_SOLVER:\n",
    "        solution['slack'] = result.slack\n",
    "    solution['x'] = x\n",
    "    solution['ineqConstraint000'] = toArray(ineqConstraint000)\n",
    "    solution['elapsed'] = timer() - start\n",
    "    return solution\n",
    "\n",
    "def generateRandomData():\n",
    "    np.random.seed(0)\n",
    "    W = np.random.randn(3, 3)\n",
    "    y = np.random.randn(3)\n",
    "    c = np.random.randn(3)\n",
    "    return W, y, c"
   ]
  },
  {
   "cell_type": "code",
   "execution_count": 3,
   "id": "registered-maryland",
   "metadata": {},
   "outputs": [],
   "source": [
    "def get_circle(x,y,r):\n",
    "    x_ = np.linspace(x-r,x+r,1000)\n",
    "    x__ = np.hstack([x_,x_])\n",
    "    y_ = np.sqrt(r**2 - (x_ - x)**2) + y\n",
    "    y__ = np.hstack([y_,y-np.sqrt(r**2 - (x_ - x)**2)])\n",
    "    xy = np.vstack([x__,y__])\n",
    "    return xy\n",
    "\n",
    "def plot_circle(x,y,r):\n",
    "    xy = get_circle(x,y,r)\n",
    "    plt.scatter(xy[0,:],xy[1,:], s=0.5, linewidth=0.1)\n",
    "\n",
    "def set_lim(l):\n",
    "    plt.xlim([-l,l])\n",
    "    plt.ylim([-l,l])"
   ]
  },
  {
   "cell_type": "code",
   "execution_count": 4,
   "id": "protective-glossary",
   "metadata": {},
   "outputs": [
    {
     "data": {
      "image/png": "[encoded data removed]",
      "text/plain": [
       "<Figure size 432x288 with 1 Axes>"
      ]
     },
     "metadata": {
      "needs_background": "light"
     },
     "output_type": "display_data"
    }
   ],
   "source": [
    "plot_circle(0,0,1)\n",
    "set_lim(2)\n",
    "plt.show()"
   ]
  },
  {
   "cell_type": "code",
   "execution_count": 5,
   "id": "remarkable-parade",
   "metadata": {},
   "outputs": [
    {
     "name": "stdout",
     "output_type": "stream",
     "text": [
      "[[1 0]\n",
      " [0 2]]\n"
     ]
    },
    {
     "data": {
      "image/png": "[encoded data removed]",
      "text/plain": [
       "<Figure size 432x288 with 1 Axes>"
      ]
     },
     "metadata": {
      "needs_background": "light"
     },
     "output_type": "display_data"
    }
   ],
   "source": [
    "W = np.array([[1,0],[0,2]])\n",
    "print(W)\n",
    "xy = get_circle(0,0,1)\n",
    "w_xy = W @ xy\n",
    "plt.scatter(w_xy[0,:],w_xy[1,:], s=0.5, linewidth=0.1)\n",
    "set_lim(2)\n",
    "plt.show()"
   ]
  },
  {
   "cell_type": "code",
   "execution_count": 6,
   "id": "disabled-driving",
   "metadata": {},
   "outputs": [
    {
     "data": {
      "image/png": "[encoded data removed]",
      "text/plain": [
       "<Figure size 432x288 with 1 Axes>"
      ]
     },
     "metadata": {
      "needs_background": "light"
     },
     "output_type": "display_data"
    }
   ],
   "source": [
    "\"\"\" Now we simulate what happens when the diagonal depends on the weights, i.e. the position of the center\"\"\"\n",
    "zeta_r = 0.5\n",
    "zeta_c = 0.5\n",
    "for l in np.linspace(0.0,1.0,10):\n",
    "    x = l\n",
    "    y = 0.0\n",
    "    W = np.array([[zeta_r * abs(x) + zeta_c, 0],[0, zeta_r * abs(y) + zeta_c]])\n",
    "    xy = get_circle(x,y,1.0)\n",
    "    w_xy = W @ xy\n",
    "    plt.scatter(w_xy[0,:],w_xy[1,:], s=0.5, linewidth=0.1)\n",
    "set_lim(2)\n",
    "plt.show()"
   ]
  },
  {
   "cell_type": "code",
   "execution_count": 7,
   "id": "covered-crest",
   "metadata": {},
   "outputs": [
    {
     "data": {
      "image/png": "[encoded data removed]",
      "text/plain": [
       "<Figure size 432x288 with 1 Axes>"
      ]
     },
     "metadata": {
      "needs_background": "light"
     },
     "output_type": "display_data"
    }
   ],
   "source": [
    "\"\"\"With small constant term\"\"\"\n",
    "zeta_r = 1.0\n",
    "zeta_c = 0.001\n",
    "for l in np.linspace(0.0,1.0,10):\n",
    "    x = l\n",
    "    y = l\n",
    "    W = np.array([[zeta_r * abs(x) + zeta_c, 0],[0, zeta_r * abs(y) + zeta_c]])\n",
    "    xy = get_circle(x,y,1.0)\n",
    "    w_xy = W @ xy\n",
    "    plt.scatter(w_xy[0,:],w_xy[1,:], s=0.5, linewidth=0.1)\n",
    "set_lim(2)\n",
    "plt.show()"
   ]
  },
  {
   "cell_type": "code",
   "execution_count": 8,
   "id": "interracial-raising",
   "metadata": {},
   "outputs": [
    {
     "data": {
      "image/png": "[encoded data removed]",
      "text/plain": [
       "<Figure size 432x288 with 1 Axes>"
      ]
     },
     "metadata": {
      "needs_background": "light"
     },
     "output_type": "display_data"
    }
   ],
   "source": [
    "\"\"\"Projection on the epsilon ball\"\"\"\n",
    "eps = 1.0\n",
    "c = np.array([1.0,1.0]) # - Center of the ball\n",
    "plot_circle(c[0],c[1],eps)\n",
    "plt.scatter(c[0],c[1], color=\"r\")\n",
    "y = np.array([3,2])\n",
    "plt.scatter(y[0],y[1], color=\"g\")\n",
    "\n",
    "\"\"\"\n",
    "We are trying to project the greem dot onto the ball.\n",
    "This corresponds to solving the following optimisation problem:\n",
    "\n",
    "arg min_x .5||y-x||^2_2 s.t. ||x-c||^2_2 <= eps**2\n",
    "\n",
    "The solution to this problem is given by: x* = c + eps/(max(||y-c||_2,eps))*(y-c)\n",
    "\"\"\"\n",
    "\n",
    "def proj_ball(c,eps,y):\n",
    "    return c + eps/max(np.linalg.norm(y-c,ord=2),eps)*(y-c)\n",
    "\n",
    "proj_y = proj_ball(c,eps,y)\n",
    "plt.scatter(proj_y[0],proj_y[1], color=\"y\")\n",
    "set_lim(4)\n",
    "plt.show()"
   ]
  },
  {
   "cell_type": "code",
   "execution_count": 259,
   "id": "dedicated-travel",
   "metadata": {},
   "outputs": [
    {
     "name": "stdout",
     "output_type": "stream",
     "text": [
      "1.0000000554397925\n"
     ]
    },
    {
     "data": {
      "image/png": "[encoded data removed]",
      "text/plain": [
       "<Figure size 288x288 with 1 Axes>"
      ]
     },
     "metadata": {
      "needs_background": "light"
     },
     "output_type": "display_data"
    }
   ],
   "source": [
    "eps = 1\n",
    "W = np.array([[1.5,0],[0,4]])\n",
    "c = np.array([0.0,0.0])\n",
    "xy = get_circle(c[0],c[1],1)\n",
    "w_xy = W @ xy\n",
    "y = np.array([np.sqrt(.5)+0.5,np.sqrt(.5)])\n",
    "w_y = W @ y\n",
    "plot_circle(c[0],c[1],eps)\n",
    "plt.scatter(w_xy[0,:],w_xy[1,:], color=\"r\", s=0.5, linewidth=0.1)\n",
    "plt.scatter(y[0],y[1],label=\"y\")\n",
    "plt.scatter(w_y[0],w_y[1],color=\"C2\",label=\"Wy\")\n",
    "\n",
    "solution = solve(np.linalg.inv(W)**2,w_y,c)\n",
    "x_proj = solution[\"x\"]\n",
    "plt.scatter(x_proj[0],x_proj[1],color=\"C3\",label=\"Proj\")\n",
    "\n",
    "print(np.dot((x_proj - c), np.linalg.inv(W)**2 @ (x_proj -c)))\n",
    "\n",
    "set_lim(6)\n",
    "plt.legend()\n",
    "plt.show()\n"
   ]
  },
  {
   "cell_type": "code",
   "execution_count": 268,
   "id": "interstate-quarterly",
   "metadata": {},
   "outputs": [
    {
     "name": "stdout",
     "output_type": "stream",
     "text": [
      "Point that lies within\n",
      "0.3611111111111111\n",
      "Point outside\n",
      "7.111111111111111\n"
     ]
    },
    {
     "data": {
      "image/png": "[encoded data removed]",
      "text/plain": [
       "<Figure size 288x288 with 1 Axes>"
      ]
     },
     "metadata": {
      "needs_background": "light"
     },
     "output_type": "display_data"
    }
   ],
   "source": [
    "y = np.array([0.5,2])\n",
    "plot_circle(c[0],c[1],eps)\n",
    "plt.scatter(w_xy[0,:],w_xy[1,:], color=\"r\", s=0.5, linewidth=0.1)\n",
    "plt.scatter(y[0],y[1],label=\"y\")\n",
    "solution = solve(np.linalg.inv(W)**2,y,c)\n",
    "x_proj = solution[\"x\"]\n",
    "plt.scatter(x_proj[0],x_proj[1],color=\"C3\",label=\"Proj\")\n",
    "\n",
    "print(\"Point that lies within\")\n",
    "print(np.dot((y - c), np.linalg.inv(W)**2 @ (y -c)))\n",
    "print(\"Point outside\"); a = np.array([4,0])\n",
    "print(np.dot((a - c), np.linalg.inv(W)**2 @ (a -c)))\n",
    "plt.scatter(a[0],a[1], color=\"g\", label=\"out\")\n",
    "\n",
    "set_lim(6)\n",
    "plt.legend()\n",
    "plt.show()"
   ]
  }
 ],
 "metadata": {
  "kernelspec": {
   "display_name": "Python 3",
   "language": "python",
   "name": "python3"
  },
  "language_info": {
   "codemirror_mode": {
    "name": "ipython",
    "version": 3
   },
   "file_extension": ".py",
   "mimetype": "text/x-python",
   "name": "python",
   "nbconvert_exporter": "python",
   "pygments_lexer": "ipython3",
   "version": "3.7.9"
  }
 },
 "nbformat": 4,
 "nbformat_minor": 5
}
